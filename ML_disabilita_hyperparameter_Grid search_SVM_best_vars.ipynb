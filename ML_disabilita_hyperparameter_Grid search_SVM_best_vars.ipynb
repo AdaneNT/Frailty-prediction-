{
 "cells": [
  {
   "cell_type": "markdown",
   "metadata": {},
   "source": [
    "# Disability"
   ]
  },
  {
   "cell_type": "code",
   "execution_count": 3,
   "metadata": {},
   "outputs": [],
   "source": [
    "import warnings \n",
    "warnings.filterwarnings(\"ignore\", category=FutureWarning)\n",
    "warnings.simplefilter('ignore', DeprecationWarning)\n",
    "#warnings.simplefilter('ignore', ConvergenceWarning)\n",
    "\n",
    "import pandas as pd\n",
    "from pandas import read_csv\n",
    "import matplotlib.pyplot as plt\n",
    "import numpy as np\n",
    "import numpy as np\n",
    "import pandas as pd\n",
    "import scipy.stats as stats"
   ]
  },
  {
   "cell_type": "markdown",
   "metadata": {},
   "source": [
    "# Read  Dataset"
   ]
  },
  {
   "cell_type": "code",
   "execution_count": null,
   "metadata": {
    "scrolled": true
   },
   "outputs": [],
   "source": [
    "#data_one=\"C:/Progetti/option3_dataset_balanced/codice_14987.csv\"\n",
    "data_one=\"D:/Progetti/option3_dataset_balanced_withoutindex/disabilita_62854.csv\"\n",
    "df=read_csv(data_one)\n",
    "print(df.shape)\n",
    "df.head(0)"
   ]
  },
  {
   "cell_type": "markdown",
   "metadata": {},
   "source": [
    "# Feature Selection"
   ]
  },
  {
   "cell_type": "code",
   "execution_count": 6,
   "metadata": {},
   "outputs": [],
   "source": [
    "from pandas import read_csv\n",
    "from numpy import set_printoptions\n",
    "from sklearn.feature_selection import SelectKBest\n",
    "from sklearn.feature_selection import chi2\n",
    "import numpy as np"
   ]
  },
  {
   "cell_type": "code",
   "execution_count": 7,
   "metadata": {},
   "outputs": [
    {
     "name": "stdout",
     "output_type": "stream",
     "text": [
      "[9.881e+03 3.600e+01 4.137e+03 3.625e+03 4.244e+03 4.946e+03 5.000e+00\n",
      " 1.110e+02 2.609e+03 3.963e+03 1.185e+03 2.400e+01 3.123e+03 2.157e+03\n",
      " 2.390e+02 7.700e+01 9.300e+01 3.800e+02 2.950e+02 0.000e+00 3.000e+00\n",
      " 2.494e+03 1.134e+03 2.142e+03 5.350e+02 8.900e+01 1.219e+03 1.007e+03\n",
      " 1.679e+03 3.410e+02 3.700e+01 1.510e+03 5.120e+02 6.100e+01 1.709e+03\n",
      " 1.410e+02 5.660e+02 7.850e+02 2.220e+02 1.000e+00 8.180e+02 7.760e+02\n",
      " 4.790e+02 5.820e+02 2.214e+03 2.616e+03 1.138e+03 2.660e+02 1.237e+03\n",
      " 9.130e+02 6.230e+02 1.856e+03 6.780e+02 2.120e+02 6.200e+01 3.800e+01\n",
      " 3.810e+02 2.300e+01]\n",
      "[[4 1 1 1 1 0 0 1 0 0 1 0 2 0 0 1 4 4 5 1 3 0 0 0 0 0 0 0 0 1 1 1 0 0 1 0\n",
      "  0 0 0 0 1 0 1 0 1 1 0 1 0 1 0 1 0 1 0 1 0 1]\n",
      " [5 0 1 1 1 1 0 1 0 2 2 0 1 0 0 3 3 1 5 1 3 0 0 1 0 0 0 0 0 1 0 0 1 1 0 0\n",
      "  0 0 0 0 0 0 1 1 1 1 0 1 1 1 1 1 1 1 0 0 1 0]\n",
      " [4 0 0 0 0 0 0 1 0 0 1 0 0 0 0 2 2 4 5 1 1 0 0 1 0 0 0 0 0 0 0 0 0 0 0 0\n",
      "  0 0 0 0 0 0 0 0 0 1 0 1 0 0 0 0 0 1 0 1 0 0]\n",
      " [4 0 1 0 1 0 0 1 0 0 1 0 0 1 0 1 2 3 5 1 1 0 1 0 0 0 0 0 0 1 0 0 0 0 1 0\n",
      "  0 0 0 0 0 1 0 0 1 1 1 1 0 0 0 1 0 1 0 0 0 0]\n",
      " [3 0 0 0 0 0 0 1 1 1 2 0 0 0 0 2 3 4 5 1 3 1 0 1 1 0 0 0 0 1 0 0 0 0 0 0\n",
      "  0 0 0 0 0 0 1 0 0 1 0 1 0 0 1 1 1 1 0 0 0 0]]\n"
     ]
    }
   ],
   "source": [
    "array = df.values\n",
    "X = array[:,0:58]\n",
    "Y = array[:,58]\n",
    "\n",
    "# feature extraction\n",
    "test = SelectKBest(score_func=chi2, k=58)\n",
    "fit = test.fit(X, Y)\n",
    "\n",
    "# summarize scores\n",
    "set_printoptions(precision=3)\n",
    "feature_score=np.around(fit.scores_)\n",
    "print(feature_score)\n",
    "features = fit.transform(X)\n",
    "\n",
    "# summarize selected features\n",
    "print(features[0:5,:])"
   ]
  },
  {
   "cell_type": "code",
   "execution_count": 8,
   "metadata": {},
   "outputs": [
    {
     "name": "stdout",
     "output_type": "stream",
     "text": [
      "            features  pvalues  X2_score\n",
      "0              cleta  0.00000    9881.0\n",
      "5            maxchar  0.00000    4946.0\n",
      "4         n_ricoveri  0.00000    4244.0\n",
      "2              n_urg  0.00000    4137.0\n",
      "9       polpre2_farm  0.00000    3963.0\n",
      "3         n_notrauma  0.00000    3625.0\n",
      "12             cod_2  0.00000    3123.0\n",
      "45              nerv  0.00000    2616.0\n",
      "8           invalido  0.00000    2609.0\n",
      "21          disabile  0.00000    2494.0\n",
      "44             blood  0.00000    2214.0\n",
      "13             cod_3  0.00000    2157.0\n",
      "23             depre  0.00000    2142.0\n",
      "51              circ  0.00000    1856.0\n",
      "34           demenza  0.00000    1709.0\n",
      "28               ane  0.00000    1679.0\n",
      "31            mental  0.00000    1510.0\n",
      "48               uri  0.00000    1237.0\n",
      "26              park  0.00000    1219.0\n",
      "10  n_farmaci_gruppo  0.00000    1185.0\n",
      "46              resp  0.00000    1138.0\n",
      "22          fratture  0.00000    1134.0\n",
      "27              epil  0.00000    1007.0\n",
      "49             diges  0.00000     913.0\n",
      "40           fibratr  0.00000     818.0\n",
      "37             ictus  0.00000     785.0\n",
      "41       femore_prec  0.00000     776.0\n",
      "52              alim  0.00000     678.0\n",
      "50         endocrine  0.00000     623.0\n",
      "43             neopl  0.00000     582.0\n",
      "36               chf  0.00000     566.0\n",
      "24              diab  0.00000     535.0\n",
      "32            cancro  0.00000     512.0\n",
      "42             infec  0.00000     479.0\n",
      "56          ormonali  0.00000     381.0\n",
      "17           ISTRSLP  0.00000     380.0\n",
      "29              iper  0.00000     341.0\n",
      "18          CONDPSLP  0.00000     295.0\n",
      "47              musc  0.00000     266.0\n",
      "14             cod_4  0.00000     239.0\n",
      "38          insufren  0.00000     222.0\n",
      "53             cuore  0.00000     212.0\n",
      "35               cad  0.00000     141.0\n",
      "7           ese_redd  0.00000     111.0\n",
      "16          STCIVSLP  0.00000      93.0\n",
      "25              artr  0.00000      89.0\n",
      "15            TITGOD  0.00000      77.0\n",
      "54              derm  0.00000      62.0\n",
      "33           tiroide  0.00000      61.0\n",
      "55             genit  0.00000      38.0\n",
      "30              glau  0.00000      37.0\n",
      "1    cittad_psa_pfpm  0.00000      36.0\n",
      "11             cod_1  0.00000      24.0\n",
      "57             sensi  0.00000      23.0\n",
      "6                adi  0.03215       5.0\n",
      "20      tipologianew  0.10750       3.0\n",
      "39           ipercol  0.37439       1.0\n",
      "19         AFF_11BII  0.59175       0.0\n"
     ]
    }
   ],
   "source": [
    "rownames = ['cleta','cittad_psa_pfpm','n_urg','n_notrauma','n_ricoveri','maxchar','adi','ese_redd','invalido','polpre2_farm',\n",
    "        'n_farmaci_gruppo','cod_1','cod_2','cod_3','cod_4','TITGOD','STCIVSLP','ISTRSLP','CONDPSLP','AFF_11BII','tipologianew',\n",
    "         'disabile','fratture','depre','diab','artr','park','epil','ane','iper','glau','mental','cancro','tiroide','demenza',\n",
    "         'cad','chf','ictus','insufren','ipercol','fibratr','femore_prec','infec','neopl','blood','nerv','resp','musc','uri',\n",
    "         'diges','endocrine','circ','alim','cuore','derm','genit','ormonali','sensi']\n",
    "features=pd.DataFrame(rownames) \n",
    "#print('Pvalues')\n",
    "pvalues=pd.DataFrame(fit.pvalues_).round(5) \n",
    "X2_score=pd.DataFrame(feature_score) \n",
    "feature_pvalue=pd.concat([features,pvalues,X2_score],axis=1,ignore_index=True)\n",
    "feature_pvalue.columns=['features','pvalues','X2_score']\n",
    "feature_pvalue=feature_pvalue.sort_values(by=['X2_score'],ascending=False)\n",
    "print(feature_pvalue)"
   ]
  },
  {
   "cell_type": "code",
   "execution_count": 10,
   "metadata": {},
   "outputs": [
    {
     "name": "stdout",
     "output_type": "stream",
     "text": [
      "(62854, 56)\n"
     ]
    },
    {
     "data": {
      "text/html": [
       "<div>\n",
       "<style scoped>\n",
       "    .dataframe tbody tr th:only-of-type {\n",
       "        vertical-align: middle;\n",
       "    }\n",
       "\n",
       "    .dataframe tbody tr th {\n",
       "        vertical-align: top;\n",
       "    }\n",
       "\n",
       "    .dataframe thead th {\n",
       "        text-align: right;\n",
       "    }\n",
       "</style>\n",
       "<table border=\"1\" class=\"dataframe\">\n",
       "  <thead>\n",
       "    <tr style=\"text-align: right;\">\n",
       "      <th></th>\n",
       "      <th>cleta</th>\n",
       "      <th>cittad_psa_pfpm</th>\n",
       "      <th>n_urg</th>\n",
       "      <th>n_notrauma</th>\n",
       "      <th>n_ricoveri</th>\n",
       "      <th>maxchar</th>\n",
       "      <th>adi</th>\n",
       "      <th>ese_redd</th>\n",
       "      <th>invalido</th>\n",
       "      <th>polpre2_farm</th>\n",
       "      <th>...</th>\n",
       "      <th>diges</th>\n",
       "      <th>endocrine</th>\n",
       "      <th>circ</th>\n",
       "      <th>alim</th>\n",
       "      <th>cuore</th>\n",
       "      <th>derm</th>\n",
       "      <th>genit</th>\n",
       "      <th>ormonali</th>\n",
       "      <th>sensi</th>\n",
       "      <th>disabilita</th>\n",
       "    </tr>\n",
       "  </thead>\n",
       "  <tbody>\n",
       "  </tbody>\n",
       "</table>\n",
       "<p>0 rows × 56 columns</p>\n",
       "</div>"
      ],
      "text/plain": [
       "Empty DataFrame\n",
       "Columns: [cleta, cittad_psa_pfpm, n_urg, n_notrauma, n_ricoveri, maxchar, adi, ese_redd, invalido, polpre2_farm, n_farmaci_gruppo, cod_1, cod_2, cod_3, cod_4, TITGOD, STCIVSLP, ISTRSLP, CONDPSLP, disabile, fratture, depre, diab, artr, park, epil, ane, iper, glau, mental, cancro, tiroide, demenza, cad, chf, ictus, insufren, fibratr, femore_prec, infec, neopl, blood, nerv, resp, musc, uri, diges, endocrine, circ, alim, cuore, derm, genit, ormonali, sensi, disabilita]\n",
       "Index: []\n",
       "\n",
       "[0 rows x 56 columns]"
      ]
     },
     "execution_count": 10,
     "metadata": {},
     "output_type": "execute_result"
    }
   ],
   "source": [
    "df_55=df[['cleta','cittad_psa_pfpm','n_urg','n_notrauma','n_ricoveri','maxchar','adi','ese_redd','invalido','polpre2_farm',\n",
    "        'n_farmaci_gruppo','cod_1','cod_2','cod_3','cod_4','TITGOD','STCIVSLP','ISTRSLP','CONDPSLP',\n",
    "         'disabile','fratture','depre','diab','artr','park','epil','ane','iper','glau','mental','cancro','tiroide','demenza',\n",
    "         'cad','chf','ictus','insufren','fibratr','femore_prec','infec','neopl','blood','nerv','resp','musc','uri',\n",
    "         'diges','endocrine','circ','alim','cuore','derm','genit','ormonali','sensi','disabilita']]\n",
    "\n",
    "print(df_55.shape)\n",
    "df_55.head(0)"
   ]
  },
  {
   "cell_type": "markdown",
   "metadata": {},
   "source": [
    "# Load libraries"
   ]
  },
  {
   "cell_type": "code",
   "execution_count": 11,
   "metadata": {},
   "outputs": [],
   "source": [
    "from pandas.plotting import scatter_matrix\n",
    "from sklearn.model_selection import train_test_split\n",
    "from sklearn.model_selection import KFold\n",
    "from sklearn.model_selection import cross_val_score\n",
    "from sklearn.metrics import classification_report\n",
    "from sklearn.metrics import confusion_matrix\n",
    "from sklearn.metrics import accuracy_score\n",
    "\n",
    "from sklearn.svm import SVC\n",
    "from sklearn.linear_model import LogisticRegression\n",
    "from sklearn.ensemble import RandomForestClassifier\n",
    "from sklearn.neural_network import MLPClassifier\n",
    "from sklearn.tree import DecisionTreeClassifier\n",
    "#from sklearn.neighbors import KNeighborsClassifier\n"
   ]
  },
  {
   "cell_type": "markdown",
   "metadata": {},
   "source": [
    "# Grid Search with cross validation \n",
    "With cross vlaidation, we have three sets :the training set to build the model, the validation (or development) set to select the parameters of the model, and the test set, to evaluate the performance of the selected parameters. "
   ]
  },
  {
   "cell_type": "code",
   "execution_count": 12,
   "metadata": {},
   "outputs": [],
   "source": [
    "from sklearn.model_selection import GridSearchCV "
   ]
  },
  {
   "cell_type": "code",
   "execution_count": 13,
   "metadata": {},
   "outputs": [],
   "source": [
    "array = df_55.values\n",
    "X = array[:,0:55]\n",
    "Y = array[:,55]"
   ]
  },
  {
   "cell_type": "code",
   "execution_count": 14,
   "metadata": {},
   "outputs": [],
   "source": [
    "# split data into train+validation set and test set\n",
    "X_trainval, X_test, y_trainval, Y_test = train_test_split(X, Y,test_size=0.20, random_state=7)\n",
    "\n",
    "# split train+validation set into training and validation \n",
    "X_train, X_valid, Y_train, Y_valid = train_test_split(X_trainval,y_trainval,test_size=0.20,random_state=7)"
   ]
  },
  {
   "cell_type": "code",
   "execution_count": 15,
   "metadata": {},
   "outputs": [],
   "source": [
    "# defining parameter range \n",
    "param_grid = {'C': [0.01, 0.1,1, 10, 100],  \n",
    "              'gamma': [1, 0.1, 0.01, 0.001, 0.0001], \n",
    "              'kernel': ['rbf']}  "
   ]
  },
  {
   "cell_type": "markdown",
   "metadata": {},
   "source": [
    "# Build Model: Training set"
   ]
  },
  {
   "cell_type": "code",
   "execution_count": 19,
   "metadata": {},
   "outputs": [],
   "source": [
    "svm=SVC()"
   ]
  },
  {
   "cell_type": "code",
   "execution_count": 20,
   "metadata": {},
   "outputs": [],
   "source": [
    "# grid searc with cross-validation \n",
    "grid = GridSearchCV(svm, param_grid, refit = True, verbose=1 ,cv=10) "
   ]
  },
  {
   "cell_type": "code",
   "execution_count": 23,
   "metadata": {
    "scrolled": true
   },
   "outputs": [],
   "source": [
    "# fit Model on the training  set \n",
    "grid.fit(X_train, Y_train)"
   ]
  },
  {
   "cell_type": "markdown",
   "metadata": {},
   "source": [
    "# Best  parameters "
   ]
  },
  {
   "cell_type": "code",
   "execution_count": 22,
   "metadata": {},
   "outputs": [
    {
     "name": "stdout",
     "output_type": "stream",
     "text": [
      "best parameters after tuning: {'C': 1, 'gamma': 0.1, 'kernel': 'rbf'}\n",
      "                            \n",
      "The model after hyper-parameter tuning: \n",
      "SVC(C=1, break_ties=False, cache_size=200, class_weight=None, coef0=0.0,\n",
      "    decision_function_shape='ovr', degree=3, gamma=0.1, kernel='rbf',\n",
      "    max_iter=-1, probability=False, random_state=None, shrinking=True,\n",
      "    tol=0.001, verbose=False)\n"
     ]
    }
   ],
   "source": [
    "best_params=grid.best_params_\n",
    "print('best parameters after tuning:',best_params)\n",
    "#print(grid.best_params_) \n",
    "# print how our model looks after hyper-parameter tuning\n",
    "print('                            ')\n",
    "print('The model after hyper-parameter tuning: ')\n",
    "print(grid.best_estimator_) "
   ]
  },
  {
   "cell_type": "markdown",
   "metadata": {},
   "source": [
    "# Evaluate Model:Validation set"
   ]
  },
  {
   "cell_type": "code",
   "execution_count": 24,
   "metadata": {},
   "outputs": [
    {
     "name": "stdout",
     "output_type": "stream",
     "text": [
      "score on Validation set: 0.7563885850651287\n"
     ]
    }
   ],
   "source": [
    "# evaluate the Model  on the validation set\n",
    "best_model=grid.best_estimator_\n",
    "score = best_model.score(X_valid, Y_valid)\n",
    "print('score on Validation set:',score)"
   ]
  },
  {
   "cell_type": "markdown",
   "metadata": {},
   "source": [
    "# Rebuild model on the combined training and validation set\n",
    "\n",
    "Training + Validation + best parametersrameters"
   ]
  },
  {
   "cell_type": "code",
   "execution_count": 25,
   "metadata": {},
   "outputs": [],
   "source": [
    "svm=SVC(**best_params)"
   ]
  },
  {
   "cell_type": "code",
   "execution_count": 26,
   "metadata": {},
   "outputs": [
    {
     "name": "stdout",
     "output_type": "stream",
     "text": [
      "0    0.75\n",
      "1    0.74\n",
      "2    0.75\n",
      "3    0.76\n",
      "4    0.77\n",
      "5    0.76\n",
      "6    0.74\n",
      "7    0.76\n",
      "8    0.75\n",
      "9    0.76\n",
      "dtype: float64\n",
      "0.75\n"
     ]
    }
   ],
   "source": [
    "from sklearn.model_selection import StratifiedKFold\n",
    "kfold = StratifiedKFold(n_splits=10, random_state=3)\n",
    "cv_results = cross_val_score(svm, X_trainval, y_trainval, cv=kfold, scoring='accuracy') \n",
    "cv_results=pd.DataFrame([cv_results])\n",
    "cv=cv_results.mean().round(2)\n",
    "print(cv)\n",
    "print(np.round(cv.mean(),2))"
   ]
  },
  {
   "cell_type": "code",
   "execution_count": null,
   "metadata": {},
   "outputs": [],
   "source": [
    "# fitting (build) the model on the combined training and validation sets\n",
    "svm.fit(X_trainval, y_trainval)"
   ]
  },
  {
   "cell_type": "markdown",
   "metadata": {},
   "source": [
    "# Evaluate Model:Test set"
   ]
  },
  {
   "cell_type": "code",
   "execution_count": null,
   "metadata": {},
   "outputs": [],
   "source": [
    "# Evalute  model on the test set (prediction on test set)\n",
    "predictions = svm.predict(X_test) "
   ]
  },
  {
   "cell_type": "code",
   "execution_count": null,
   "metadata": {
    "scrolled": true
   },
   "outputs": [],
   "source": [
    "print(classification_report(Y_test, predictions)) "
   ]
  },
  {
   "cell_type": "code",
   "execution_count": null,
   "metadata": {},
   "outputs": [],
   "source": [
    "predictions = svm.predict(X_test) \n",
    "confusion=confusion_matrix(Y_test, predictions)\n",
    "TP = confusion[1, 1]\n",
    "TN = confusion[0, 0]\n",
    "FP = confusion[0, 1]\n",
    "FN = confusion[1, 0]\n",
    "    \n",
    "TPR = TP/(TP+FN)\n",
    "TNR = TN/(TN+FP)  \n",
    "ACC = (TP+TN)/(TP+FP+FN+TN)\n",
    "Precision = TP/(TP+FP)\n",
    "Recall = TP/(TP+FN)\n",
    "F1_Score = 2*(Recall * Precision) / (Recall + Precision)\n",
    "print('confusion Matrix:')\n",
    "print(confusion)\n",
    "print('Performanace results')  \n",
    "print('TPR:',TPR.round(2))\n",
    "print('TNR:',TNR.round(2))\n",
    "print('ACC:',ACC.round(2))\n",
    "print('Precision:',Precision.round(2))\n",
    "print('Recall:',Recall.round(2))\n",
    "print('F1-Score:',F1_Score.round(2))"
   ]
  },
  {
   "cell_type": "code",
   "execution_count": null,
   "metadata": {},
   "outputs": [],
   "source": []
  }
 ],
 "metadata": {
  "kernelspec": {
   "display_name": "Python 3",
   "language": "python",
   "name": "python3"
  },
  "language_info": {
   "codemirror_mode": {
    "name": "ipython",
    "version": 3
   },
   "file_extension": ".py",
   "mimetype": "text/x-python",
   "name": "python",
   "nbconvert_exporter": "python",
   "pygments_lexer": "ipython3",
   "version": "3.7.5"
  }
 },
 "nbformat": 4,
 "nbformat_minor": 2
}
