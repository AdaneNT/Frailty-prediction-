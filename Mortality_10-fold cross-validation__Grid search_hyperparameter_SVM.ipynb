{
 "cells": [
  {
   "cell_type": "markdown",
   "metadata": {},
   "source": [
    "# Mortality Prediction performance : 10 fold cross-validation\n",
    "1. using  Support vector machine  (SVM)\n",
    "2. Using hyperparameters assigned to each model\n",
    "2. using only the most important features"
   ]
  },
  {
   "cell_type": "code",
   "execution_count": 3,
   "metadata": {},
   "outputs": [],
   "source": [
    "import warnings \n",
    "warnings.filterwarnings(\"ignore\", category=FutureWarning)\n",
    "warnings.simplefilter('ignore', DeprecationWarning)\n",
    "#warnings.simplefilter('ignore', ConvergenceWarning)\n",
    "\n",
    "import pandas as pd\n",
    "from pandas import read_csv\n",
    "import matplotlib.pyplot as plt\n",
    "import numpy as np\n",
    "import numpy as np\n",
    "import pandas as pd\n",
    "import scipy.stats as stats"
   ]
  },
  {
   "cell_type": "markdown",
   "metadata": {},
   "source": [
    "# Read  Dataset"
   ]
  },
  {
   "cell_type": "code",
   "execution_count": 4,
   "metadata": {
    "scrolled": true
   },
   "outputs": [
    {
     "name": "stdout",
     "output_type": "stream",
     "text": [
      "(83646, 59)\n"
     ]
    },
    {
     "data": {
      "text/html": [
       "<div>\n",
       "<style scoped>\n",
       "    .dataframe tbody tr th:only-of-type {\n",
       "        vertical-align: middle;\n",
       "    }\n",
       "\n",
       "    .dataframe tbody tr th {\n",
       "        vertical-align: top;\n",
       "    }\n",
       "\n",
       "    .dataframe thead th {\n",
       "        text-align: right;\n",
       "    }\n",
       "</style>\n",
       "<table border=\"1\" class=\"dataframe\">\n",
       "  <thead>\n",
       "    <tr style=\"text-align: right;\">\n",
       "      <th></th>\n",
       "      <th>cleta</th>\n",
       "      <th>cittad_psa_pfpm</th>\n",
       "      <th>n_urg</th>\n",
       "      <th>n_notrauma</th>\n",
       "      <th>n_ricoveri</th>\n",
       "      <th>maxchar</th>\n",
       "      <th>adi</th>\n",
       "      <th>ese_redd</th>\n",
       "      <th>invalido</th>\n",
       "      <th>polpre2_farm</th>\n",
       "      <th>...</th>\n",
       "      <th>diges</th>\n",
       "      <th>endocrine</th>\n",
       "      <th>circ</th>\n",
       "      <th>alim</th>\n",
       "      <th>cuore</th>\n",
       "      <th>derm</th>\n",
       "      <th>genit</th>\n",
       "      <th>ormonali</th>\n",
       "      <th>sensi</th>\n",
       "      <th>morto</th>\n",
       "    </tr>\n",
       "  </thead>\n",
       "  <tbody>\n",
       "  </tbody>\n",
       "</table>\n",
       "<p>0 rows × 59 columns</p>\n",
       "</div>"
      ],
      "text/plain": [
       "Empty DataFrame\n",
       "Columns: [cleta, cittad_psa_pfpm, n_urg, n_notrauma, n_ricoveri, maxchar, adi, ese_redd, invalido, polpre2_farm, n_farmaci_gruppo, cod_1, cod_2, cod_3, cod_4, TITGOD, STCIVSLP, ISTRSLP, CONDPSLP, AFF_11BII, tipologianew, disabile, fratture, depre, diab, artr, park, epil, ane, iper, glau, mental, cancro, tiroide, demenza, cad, chf, ictus, insufren, ipercol, fibratr, femore_prec, infec, neopl, blood, nerv, resp, musc, uri, diges, endocrine, circ, alim, cuore, derm, genit, ormonali, sensi, morto]\n",
       "Index: []\n",
       "\n",
       "[0 rows x 59 columns]"
      ]
     },
     "execution_count": 4,
     "metadata": {},
     "output_type": "execute_result"
    }
   ],
   "source": [
    "data_one=\"D:/Progetti/option3_dataset_balanced_withoutindex/morto_83646.csv\"\n",
    "df=read_csv(data_one)\n",
    "print(df.shape)\n",
    "df.head(0)"
   ]
  },
  {
   "cell_type": "markdown",
   "metadata": {},
   "source": [
    "# Feature Extarction"
   ]
  },
  {
   "cell_type": "code",
   "execution_count": 5,
   "metadata": {},
   "outputs": [],
   "source": [
    "from pandas import read_csv\n",
    "from numpy import set_printoptions\n",
    "from sklearn.feature_selection import SelectKBest\n",
    "from sklearn.feature_selection import chi2\n",
    "import numpy as np"
   ]
  },
  {
   "cell_type": "code",
   "execution_count": 6,
   "metadata": {},
   "outputs": [
    {
     "name": "stdout",
     "output_type": "stream",
     "text": [
      "[2.043e+04 8.300e+01 6.679e+03 5.526e+03 5.972e+03 9.570e+03 1.000e+01\n",
      " 1.200e+02 5.724e+03 5.151e+03 1.414e+03 1.200e+01 3.972e+03 3.506e+03\n",
      " 4.030e+02 8.300e+01 1.200e+02 4.800e+02 4.830e+02 0.000e+00 2.000e+00\n",
      " 5.465e+03 9.670e+02 1.419e+03 6.180e+02 0.000e+00 9.430e+02 8.910e+02\n",
      " 2.994e+03 2.780e+02 1.600e+01 1.394e+03 1.475e+03 0.000e+00 1.880e+03\n",
      " 2.680e+02 1.426e+03 7.410e+02 5.030e+02 3.900e+01 1.695e+03 7.790e+02\n",
      " 7.400e+02 1.581e+03 3.099e+03 2.222e+03 2.379e+03 4.200e+02 2.267e+03\n",
      " 1.590e+03 5.540e+02 2.744e+03 6.610e+02 2.550e+02 1.640e+02 1.020e+02\n",
      " 5.660e+02 5.000e+00]\n",
      "[[4 0 0 0 0 0 0 0 1 0 1 0 0 0 0 1 3 4 5 1 3 1 0 0 0 0 0 0 1 1 0 0 0 0 0 0\n",
      "  0 0 0 0 0 0 0 1 1 1 0 1 0 0 0 1 1 0 0 0 0 0]\n",
      " [4 0 1 1 1 2 0 1 1 1 1 0 2 0 0 1 2 3 5 1 1 1 0 0 0 0 1 0 0 0 0 1 1 0 1 0\n",
      "  0 0 0 0 0 0 1 1 1 1 1 0 0 0 0 1 1 1 0 0 0 0]\n",
      " [2 0 0 0 0 0 0 1 0 0 1 0 0 0 0 1 4 4 5 1 1 0 0 0 1 0 0 0 0 0 0 0 0 0 0 0\n",
      "  0 0 0 0 0 0 0 0 0 0 0 1 0 0 1 0 1 0 0 0 0 0]\n",
      " [0 0 0 0 0 0 0 0 0 1 1 0 0 0 0 1 3 4 5 1 4 0 0 0 0 0 0 0 0 0 0 0 0 0 0 0\n",
      "  0 0 0 0 0 0 1 0 0 0 1 1 0 0 0 0 1 0 0 0 1 0]\n",
      " [2 0 0 0 0 0 0 1 1 1 2 0 0 0 0 1 4 4 5 2 2 1 0 1 0 0 0 1 0 0 0 0 0 0 0 0\n",
      "  0 0 0 0 0 0 1 0 1 1 0 1 1 1 0 0 1 1 0 1 0 0]]\n"
     ]
    }
   ],
   "source": [
    "array = df.values\n",
    "X = array[:,0:58]\n",
    "Y = array[:,58]\n",
    "\n",
    "# feature extraction\n",
    "test = SelectKBest(score_func=chi2, k=58)\n",
    "fit = test.fit(X, Y)\n",
    "\n",
    "# summarize scores\n",
    "set_printoptions(precision=3)\n",
    "feature_score=np.around(fit.scores_)\n",
    "print(feature_score)\n",
    "features = fit.transform(X)\n",
    "\n",
    "# summarize selected features\n",
    "print(features[0:5,:])"
   ]
  },
  {
   "cell_type": "code",
   "execution_count": 7,
   "metadata": {},
   "outputs": [
    {
     "name": "stdout",
     "output_type": "stream",
     "text": [
      "            features  pvalues  X2_score\n",
      "0              cleta  0.00000   20426.0\n",
      "5            maxchar  0.00000    9570.0\n",
      "2              n_urg  0.00000    6679.0\n",
      "4         n_ricoveri  0.00000    5972.0\n",
      "8           invalido  0.00000    5724.0\n",
      "3         n_notrauma  0.00000    5526.0\n",
      "21          disabile  0.00000    5465.0\n",
      "9       polpre2_farm  0.00000    5151.0\n",
      "12             cod_2  0.00000    3972.0\n",
      "13             cod_3  0.00000    3506.0\n",
      "44             blood  0.00000    3099.0\n",
      "28               ane  0.00000    2994.0\n",
      "51              circ  0.00000    2744.0\n",
      "46              resp  0.00000    2379.0\n",
      "48               uri  0.00000    2267.0\n",
      "45              nerv  0.00000    2222.0\n",
      "34           demenza  0.00000    1880.0\n",
      "40           fibratr  0.00000    1695.0\n",
      "49             diges  0.00000    1590.0\n",
      "43             neopl  0.00000    1581.0\n",
      "32            cancro  0.00000    1475.0\n",
      "36               chf  0.00000    1426.0\n",
      "23             depre  0.00000    1419.0\n",
      "10  n_farmaci_gruppo  0.00000    1414.0\n",
      "31            mental  0.00000    1394.0\n",
      "22          fratture  0.00000     967.0\n",
      "26              park  0.00000     943.0\n",
      "27              epil  0.00000     891.0\n",
      "41       femore_prec  0.00000     779.0\n",
      "37             ictus  0.00000     741.0\n",
      "42             infec  0.00000     740.0\n",
      "52              alim  0.00000     661.0\n",
      "24              diab  0.00000     618.0\n",
      "56          ormonali  0.00000     566.0\n",
      "50         endocrine  0.00000     554.0\n",
      "38          insufren  0.00000     503.0\n",
      "18          CONDPSLP  0.00000     483.0\n",
      "17           ISTRSLP  0.00000     480.0\n",
      "47              musc  0.00000     420.0\n",
      "14             cod_4  0.00000     403.0\n",
      "29              iper  0.00000     278.0\n",
      "35               cad  0.00000     268.0\n",
      "53             cuore  0.00000     255.0\n",
      "54              derm  0.00000     164.0\n",
      "16          STCIVSLP  0.00000     120.0\n",
      "7           ese_redd  0.00000     120.0\n",
      "55             genit  0.00000     102.0\n",
      "1    cittad_psa_pfpm  0.00000      83.0\n",
      "15            TITGOD  0.00000      83.0\n",
      "39           ipercol  0.00000      39.0\n",
      "30              glau  0.00006      16.0\n",
      "11             cod_1  0.00045      12.0\n",
      "6                adi  0.00162      10.0\n",
      "57             sensi  0.02178       5.0\n",
      "20      tipologianew  0.19876       2.0\n",
      "19         AFF_11BII  0.84605       0.0\n",
      "25              artr  0.89514       0.0\n",
      "33           tiroide  0.97293       0.0\n"
     ]
    }
   ],
   "source": [
    "rownames = ['cleta','cittad_psa_pfpm','n_urg','n_notrauma','n_ricoveri','maxchar','adi','ese_redd','invalido','polpre2_farm',\n",
    "        'n_farmaci_gruppo','cod_1','cod_2','cod_3','cod_4','TITGOD','STCIVSLP','ISTRSLP','CONDPSLP','AFF_11BII','tipologianew',\n",
    "         'disabile','fratture','depre','diab','artr','park','epil','ane','iper','glau','mental','cancro','tiroide','demenza',\n",
    "         'cad','chf','ictus','insufren','ipercol','fibratr','femore_prec','infec','neopl','blood','nerv','resp','musc','uri',\n",
    "         'diges','endocrine','circ','alim','cuore','derm','genit','ormonali','sensi']\n",
    "features=pd.DataFrame(rownames) \n",
    "#print('Pvalues')\n",
    "pvalues=pd.DataFrame(fit.pvalues_).round(5) \n",
    "X2_score=pd.DataFrame(feature_score) \n",
    "feature_pvalue=pd.concat([features,pvalues,X2_score],axis=1,ignore_index=True)\n",
    "feature_pvalue.columns=['features','pvalues','X2_score']\n",
    "feature_pvalue=feature_pvalue.sort_values(by=['X2_score'],ascending=False)\n",
    "print(feature_pvalue)"
   ]
  },
  {
   "cell_type": "code",
   "execution_count": null,
   "metadata": {},
   "outputs": [],
   "source": [
    "df_54=df[['cleta','cittad_psa_pfpm','n_urg','n_notrauma','n_ricoveri','maxchar','adi','ese_redd','invalido','polpre2_farm',\n",
    "        'n_farmaci_gruppo','cod_1','cod_2','cod_3','cod_4','TITGOD','STCIVSLP','ISTRSLP','CONDPSLP',\n",
    "         'disabile','fratture','depre','diab','park','epil','ane','iper','glau','mental','cancro','demenza',\n",
    "         'cad','chf','ictus','insufren','ipercol','fibratr','femore_prec','infec','neopl','blood','nerv','resp','musc','uri',\n",
    "         'diges','endocrine','circ','alim','cuore','derm','genit','ormonali','sensi' ,'morto']]\n",
    "\n",
    "print(df_54.shape)\n",
    "df_54.head(1)"
   ]
  },
  {
   "cell_type": "markdown",
   "metadata": {},
   "source": [
    "# Load libraries"
   ]
  },
  {
   "cell_type": "code",
   "execution_count": 9,
   "metadata": {},
   "outputs": [],
   "source": [
    "from pandas.plotting import scatter_matrix\n",
    "from sklearn.model_selection import train_test_split\n",
    "from sklearn.model_selection import KFold\n",
    "from sklearn.model_selection import cross_val_score\n",
    "from sklearn.metrics import classification_report\n",
    "from sklearn.metrics import confusion_matrix\n",
    "from sklearn.metrics import accuracy_score\n",
    "\n",
    "from sklearn.svm import SVC\n",
    "from sklearn.linear_model import LogisticRegression\n",
    "from sklearn.ensemble import RandomForestClassifier\n",
    "from sklearn.neural_network import MLPClassifier\n",
    "from sklearn.tree import DecisionTreeClassifier\n",
    "#from sklearn.neighbors import KNeighborsClassifier\n"
   ]
  },
  {
   "cell_type": "code",
   "execution_count": 26,
   "metadata": {},
   "outputs": [],
   "source": [
    "#df_20.iloc[:,20]\n",
    "#df_20['codice_rosso']"
   ]
  },
  {
   "cell_type": "markdown",
   "metadata": {},
   "source": [
    "# Grid Search with cross validation \n",
    "With cross vlaidation, we have three sets :the training set to build the model, the validation (or development) set to select the parameters of the model, and the test set, to evaluate the performance of the selected parameters. "
   ]
  },
  {
   "cell_type": "code",
   "execution_count": 27,
   "metadata": {},
   "outputs": [],
   "source": [
    "from sklearn.model_selection import GridSearchCV "
   ]
  },
  {
   "cell_type": "code",
   "execution_count": 28,
   "metadata": {},
   "outputs": [],
   "source": [
    "array = df_54.values\n",
    "X = array[:,0:54]\n",
    "Y = array[:,54]"
   ]
  },
  {
   "cell_type": "code",
   "execution_count": 29,
   "metadata": {},
   "outputs": [],
   "source": [
    "# split data into train+validation set and test set\n",
    "X_trainval, X_test, y_trainval, Y_test = train_test_split(X, Y,test_size=0.20, random_state=7)\n",
    "\n",
    "# split train+validation set into training and validation \n",
    "X_train, X_valid, Y_train, Y_valid = train_test_split(X_trainval,y_trainval,test_size=0.20,random_state=7)"
   ]
  },
  {
   "cell_type": "code",
   "execution_count": 31,
   "metadata": {},
   "outputs": [],
   "source": [
    "# defining parameter range \n",
    "param_grid = {'C': [0.1, 1, 10,100,1000],  \n",
    "              'gamma': [0.0001, 0.001, 0.01,0.1,1], \n",
    "              'kernel': ['rbf']}  "
   ]
  },
  {
   "cell_type": "markdown",
   "metadata": {},
   "source": [
    "# Build Model: Training set"
   ]
  },
  {
   "cell_type": "code",
   "execution_count": 32,
   "metadata": {},
   "outputs": [],
   "source": [
    "svm=SVC()"
   ]
  },
  {
   "cell_type": "code",
   "execution_count": 33,
   "metadata": {},
   "outputs": [],
   "source": [
    "# grid searc with cross-validation \n",
    "grid = GridSearchCV(svm, param_grid, refit = True, cv=10, verbose=1)  "
   ]
  },
  {
   "cell_type": "code",
   "execution_count": 2,
   "metadata": {},
   "outputs": [],
   "source": [
    "#  fit  Model  on the  training  set \n",
    "grid.fit(X_train, Y_train)"
   ]
  },
  {
   "cell_type": "markdown",
   "metadata": {},
   "source": [
    "# Best  parameters "
   ]
  },
  {
   "cell_type": "code",
   "execution_count": 36,
   "metadata": {},
   "outputs": [
    {
     "name": "stdout",
     "output_type": "stream",
     "text": [
      "best parameters after tuning: {'C': 100, 'gamma': 0.001, 'kernel': 'rbf'}\n",
      "                            \n",
      "The model after hyper-parameter tuning: \n",
      "SVC(C=100, break_ties=False, cache_size=200, class_weight=None, coef0=0.0,\n",
      "    decision_function_shape='ovr', degree=3, gamma=0.001, kernel='rbf',\n",
      "    max_iter=-1, probability=False, random_state=None, shrinking=True,\n",
      "    tol=0.001, verbose=False)\n"
     ]
    }
   ],
   "source": [
    "best_params=grid.best_params_\n",
    "print('best parameters after tuning:',best_params)\n",
    "print('                            ')\n",
    "print('The model after hyper-parameter tuning: ')\n",
    "print(grid.best_estimator_) "
   ]
  },
  {
   "cell_type": "markdown",
   "metadata": {},
   "source": [
    "# Evaluate model parameters:Validation set"
   ]
  },
  {
   "cell_type": "code",
   "execution_count": 37,
   "metadata": {},
   "outputs": [
    {
     "name": "stdout",
     "output_type": "stream",
     "text": [
      "score on Validation set: 0.7821428571428571\n"
     ]
    }
   ],
   "source": [
    "# evaluate the Model  on the validation set\n",
    "score = grid.score(X_valid, Y_valid)\n",
    "print('score on Validation set:',score)\n",
    "# print best parameter after tuning"
   ]
  },
  {
   "cell_type": "markdown",
   "metadata": {},
   "source": [
    "# Rebuild model on the combined training and validation set\n",
    "\n",
    "Training + Validation  +   best parameters"
   ]
  },
  {
   "cell_type": "code",
   "execution_count": 42,
   "metadata": {},
   "outputs": [],
   "source": [
    "svm=SVC(**best_params)"
   ]
  },
  {
   "cell_type": "code",
   "execution_count": 28,
   "metadata": {},
   "outputs": [
    {
     "name": "stdout",
     "output_type": "stream",
     "text": [
      "0    0.80\n",
      "1    0.79\n",
      "2    0.78\n",
      "3    0.80\n",
      "4    0.78\n",
      "5    0.78\n",
      "6    0.79\n",
      "7    0.79\n",
      "8    0.78\n",
      "9    0.77\n",
      "dtype: float64\n",
      "0.7860000000000001\n"
     ]
    }
   ],
   "source": [
    "from sklearn.model_selection import StratifiedKFold\n",
    "kfold = StratifiedKFold(n_splits=10, random_state=1)\n",
    "cv_results = cross_val_score(svm, X_trainval, y_trainval, cv=kfold, scoring='accuracy') \n",
    "cv_results=pd.DataFrame([cv_results])\n",
    "cv=cv_results.mean().round(2)\n",
    "#print(cv_results)\n",
    "print(cv)\n",
    "print(cv.mean())"
   ]
  },
  {
   "cell_type": "code",
   "execution_count": 2,
   "metadata": {},
   "outputs": [],
   "source": [
    "# fitting the model on the combined training and validation sets\n",
    "svm.fit(X_trainval, y_trainval)"
   ]
  },
  {
   "cell_type": "markdown",
   "metadata": {},
   "source": [
    "# Evaluate model:Test set (unseen data)"
   ]
  },
  {
   "cell_type": "code",
   "execution_count": 45,
   "metadata": {},
   "outputs": [],
   "source": [
    "# Evalute  model on the test set (prediction on test set)\n",
    "predictions = svm.predict(X_test) "
   ]
  },
  {
   "cell_type": "code",
   "execution_count": 20,
   "metadata": {
    "scrolled": true
   },
   "outputs": [
    {
     "name": "stdout",
     "output_type": "stream",
     "text": [
      "              precision    recall  f1-score   support\n",
      "\n",
      "           0       0.79      0.79      0.79      8426\n",
      "           1       0.78      0.79      0.79      8304\n",
      "\n",
      "    accuracy                           0.79     16730\n",
      "   macro avg       0.79      0.79      0.79     16730\n",
      "weighted avg       0.79      0.79      0.79     16730\n",
      "\n"
     ]
    }
   ],
   "source": [
    "print(classification_report(Y_test, predictions)) "
   ]
  },
  {
   "cell_type": "code",
   "execution_count": 21,
   "metadata": {},
   "outputs": [
    {
     "name": "stdout",
     "output_type": "stream",
     "text": [
      "confusion Matrix:\n",
      "[[6624 1802]\n",
      " [1770 6534]]\n",
      "Performanace results\n",
      "TPR: 0.79\n",
      "TNR: 0.79\n",
      "ACC: 0.79\n",
      "Precision: 0.78\n",
      "Recall: 0.79\n",
      "F1-Score: 0.79\n"
     ]
    }
   ],
   "source": [
    "predictions = svm.predict(X_test) \n",
    "confusion=confusion_matrix(Y_test, predictions)\n",
    "TP = confusion[1, 1]\n",
    "TN = confusion[0, 0]\n",
    "FP = confusion[0, 1]\n",
    "FN = confusion[1, 0]\n",
    "    \n",
    "TPR = TP/(TP+FN)\n",
    "TNR = TN/(TN+FP)  \n",
    "ACC = (TP+TN)/(TP+FP+FN+TN)\n",
    "Precision = TP/(TP+FP)\n",
    "Recall = TP/(TP+FN)\n",
    "F1_Score = 2*(Recall * Precision) / (Recall + Precision)\n",
    "print('confusion Matrix:')\n",
    "print(confusion)\n",
    "print('Performanace results')  \n",
    "print('TPR:',TPR.round(2))\n",
    "print('TNR:',TNR.round(2))\n",
    "print('ACC:',ACC.round(2))\n",
    "print('Precision:',Precision.round(2))\n",
    "print('Recall:',Recall.round(2))\n",
    "print('F1-Score:',F1_Score.round(2))"
   ]
  },
  {
   "cell_type": "code",
   "execution_count": null,
   "metadata": {},
   "outputs": [],
   "source": []
  }
 ],
 "metadata": {
  "kernelspec": {
   "display_name": "Python 3",
   "language": "python",
   "name": "python3"
  },
  "language_info": {
   "codemirror_mode": {
    "name": "ipython",
    "version": 3
   },
   "file_extension": ".py",
   "mimetype": "text/x-python",
   "name": "python",
   "nbconvert_exporter": "python",
   "pygments_lexer": "ipython3",
   "version": "3.7.5"
  }
 },
 "nbformat": 4,
 "nbformat_minor": 2
}
