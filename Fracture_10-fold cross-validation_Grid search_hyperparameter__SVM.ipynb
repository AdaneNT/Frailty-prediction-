{
 "cells": [
  {
   "cell_type": "markdown",
   "metadata": {},
   "source": [
    "# Fracture Prediction performance : 10 fold cross-validation\n",
    "1. using  Support vector machine  (SVM)\n"
   ]
  },
  {
   "cell_type": "code",
   "execution_count": 1,
   "metadata": {},
   "outputs": [],
   "source": [
    "import warnings \n",
    "warnings.filterwarnings(\"ignore\", category=FutureWarning)\n",
    "warnings.simplefilter('ignore', DeprecationWarning)\n",
    "#warnings.simplefilter('ignore', ConvergenceWarning)\n",
    "\n",
    "import pandas as pd\n",
    "from pandas import read_csv\n",
    "import matplotlib.pyplot as plt\n",
    "import numpy as np\n",
    "import numpy as np\n",
    "import pandas as pd\n",
    "import scipy.stats as stats"
   ]
  },
  {
   "cell_type": "markdown",
   "metadata": {},
   "source": [
    "# Read  Dataset"
   ]
  },
  {
   "cell_type": "code",
   "execution_count": 5,
   "metadata": {
    "scrolled": true
   },
   "outputs": [
    {
     "name": "stdout",
     "output_type": "stream",
     "text": [
      "(14166, 59)\n"
     ]
    },
    {
     "data": {
      "text/html": [
       "<div>\n",
       "<style scoped>\n",
       "    .dataframe tbody tr th:only-of-type {\n",
       "        vertical-align: middle;\n",
       "    }\n",
       "\n",
       "    .dataframe tbody tr th {\n",
       "        vertical-align: top;\n",
       "    }\n",
       "\n",
       "    .dataframe thead th {\n",
       "        text-align: right;\n",
       "    }\n",
       "</style>\n",
       "<table border=\"1\" class=\"dataframe\">\n",
       "  <thead>\n",
       "    <tr style=\"text-align: right;\">\n",
       "      <th></th>\n",
       "      <th>cleta</th>\n",
       "      <th>cittad_psa_pfpm</th>\n",
       "      <th>n_urg</th>\n",
       "      <th>n_notrauma</th>\n",
       "      <th>n_ricoveri</th>\n",
       "      <th>maxchar</th>\n",
       "      <th>adi</th>\n",
       "      <th>ese_redd</th>\n",
       "      <th>invalido</th>\n",
       "      <th>polpre2_farm</th>\n",
       "      <th>...</th>\n",
       "      <th>diges</th>\n",
       "      <th>endocrine</th>\n",
       "      <th>circ</th>\n",
       "      <th>alim</th>\n",
       "      <th>cuore</th>\n",
       "      <th>derm</th>\n",
       "      <th>genit</th>\n",
       "      <th>ormonali</th>\n",
       "      <th>sensi</th>\n",
       "      <th>femore</th>\n",
       "    </tr>\n",
       "  </thead>\n",
       "  <tbody>\n",
       "  </tbody>\n",
       "</table>\n",
       "<p>0 rows × 59 columns</p>\n",
       "</div>"
      ],
      "text/plain": [
       "Empty DataFrame\n",
       "Columns: [cleta, cittad_psa_pfpm, n_urg, n_notrauma, n_ricoveri, maxchar, adi, ese_redd, invalido, polpre2_farm, n_farmaci_gruppo, cod_1, cod_2, cod_3, cod_4, TITGOD, STCIVSLP, ISTRSLP, CONDPSLP, AFF_11BII, tipologianew, disabile, fratture, depre, diab, artr, park, epil, ane, iper, glau, mental, cancro, tiroide, demenza, cad, chf, ictus, insufren, ipercol, fibratr, femore_prec, infec, neopl, blood, nerv, resp, musc, uri, diges, endocrine, circ, alim, cuore, derm, genit, ormonali, sensi, femore]\n",
       "Index: []\n",
       "\n",
       "[0 rows x 59 columns]"
      ]
     },
     "execution_count": 5,
     "metadata": {},
     "output_type": "execute_result"
    }
   ],
   "source": [
    "#data_one=\"C:/Progetti/option3_dataset_balanced/codice_14987.csv\"\n",
    "data_one=\"D:/Progetti/option3_dataset_balanced_withoutindex/femore_14166.csv\"\n",
    "df=read_csv(data_one)\n",
    "print(df.shape)\n",
    "df.head(0)"
   ]
  },
  {
   "cell_type": "markdown",
   "metadata": {},
   "source": [
    "# Feature Extarction"
   ]
  },
  {
   "cell_type": "code",
   "execution_count": 3,
   "metadata": {},
   "outputs": [],
   "source": [
    "from pandas import read_csv\n",
    "from numpy import set_printoptions\n",
    "from sklearn.feature_selection import SelectKBest\n",
    "from sklearn.feature_selection import chi2\n",
    "import numpy as np"
   ]
  },
  {
   "cell_type": "code",
   "execution_count": 4,
   "metadata": {},
   "outputs": [
    {
     "name": "stdout",
     "output_type": "stream",
     "text": [
      "[3.275e+03 1.200e+01 5.210e+02 1.700e+02 4.240e+02 3.670e+02 5.000e+00\n",
      " 3.200e+01 3.520e+02 3.530e+02 1.090e+02 4.000e+00 4.260e+02 2.470e+02\n",
      " 8.000e+00 1.900e+01 4.200e+01 6.700e+01 6.800e+01 0.000e+00 0.000e+00\n",
      " 3.440e+02 6.230e+02 3.080e+02 2.800e+01 1.000e+00 1.490e+02 6.900e+01\n",
      " 2.880e+02 1.500e+01 8.000e+00 9.600e+01 3.000e+00 5.000e+00 1.240e+02\n",
      " 2.000e+00 7.200e+01 4.700e+01 1.700e+01 7.000e+00 1.000e+02 4.780e+02\n",
      " 1.900e+01 5.000e+00 2.950e+02 3.260e+02 5.800e+01 1.700e+01 6.600e+01\n",
      " 7.200e+01 1.800e+01 1.360e+02 5.400e+01 3.000e+01 3.000e+00 2.800e+01\n",
      " 2.900e+01 6.000e+00]\n",
      "[[4 0 0 1 1 1 0 1 0 1 2 0 0 0 0 1 1 3 5 1 3 0 0 0 0 0 0 0 1 1 0 0 0 0 0 0\n",
      "  0 0 0 0 0 0 0 0 1 0 0 0 0 0 0 1 0 1 0 1 0 0]\n",
      " [2 0 0 0 0 1 0 0 1 2 3 0 1 0 0 3 2 3 5 2 4 1 0 0 1 0 0 0 0 1 0 0 0 0 0 0\n",
      "  0 0 0 0 0 0 1 0 1 1 1 1 1 0 1 1 1 1 0 1 1 0]\n",
      " [1 0 1 0 1 1 0 0 1 2 2 0 1 0 0 2 2 1 5 1 3 1 1 0 1 0 0 0 0 0 0 0 0 0 0 0\n",
      "  0 0 0 0 0 1 0 0 1 1 1 1 0 1 1 1 1 1 0 1 0 0]\n",
      " [5 0 0 0 0 0 0 1 0 2 3 0 0 0 0 1 3 4 5 1 3 0 0 1 0 0 0 0 1 0 0 0 0 0 0 0\n",
      "  0 0 0 0 0 0 1 0 1 1 1 1 0 0 0 0 1 1 1 0 0 0]\n",
      " [5 0 0 0 0 0 0 1 0 0 0 0 1 0 0 1 3 3 5 1 3 0 0 0 0 0 0 0 0 0 0 0 0 0 0 0\n",
      "  0 0 0 0 0 0 0 0 0 0 0 1 0 0 0 0 0 0 0 0 0 0]]\n"
     ]
    }
   ],
   "source": [
    "array = df.values\n",
    "X = array[:,0:58]\n",
    "Y = array[:,58]\n",
    "\n",
    "# feature extraction\n",
    "test = SelectKBest(score_func=chi2, k=58)\n",
    "fit = test.fit(X, Y)\n",
    "\n",
    "# summarize scores\n",
    "set_printoptions(precision=3)\n",
    "feature_score=np.around(fit.scores_)\n",
    "print(feature_score)\n",
    "features = fit.transform(X)\n",
    "\n",
    "# summarize selected features\n",
    "print(features[0:5,:])"
   ]
  },
  {
   "cell_type": "code",
   "execution_count": 5,
   "metadata": {},
   "outputs": [
    {
     "name": "stdout",
     "output_type": "stream",
     "text": [
      "            features  pvalues  X2_score\n",
      "0              cleta  0.00000    3275.0\n",
      "22          fratture  0.00000     623.0\n",
      "2              n_urg  0.00000     521.0\n",
      "41       femore_prec  0.00000     478.0\n",
      "12             cod_2  0.00000     426.0\n",
      "4         n_ricoveri  0.00000     424.0\n",
      "5            maxchar  0.00000     367.0\n",
      "9       polpre2_farm  0.00000     353.0\n",
      "8           invalido  0.00000     352.0\n",
      "21          disabile  0.00000     344.0\n",
      "45              nerv  0.00000     326.0\n",
      "23             depre  0.00000     308.0\n",
      "44             blood  0.00000     295.0\n",
      "28               ane  0.00000     288.0\n",
      "13             cod_3  0.00000     247.0\n",
      "3         n_notrauma  0.00000     170.0\n",
      "26              park  0.00000     149.0\n",
      "51              circ  0.00000     136.0\n",
      "34           demenza  0.00000     124.0\n",
      "10  n_farmaci_gruppo  0.00000     109.0\n",
      "40           fibratr  0.00000     100.0\n",
      "31            mental  0.00000      96.0\n",
      "36               chf  0.00000      72.0\n",
      "49             diges  0.00000      72.0\n",
      "27              epil  0.00000      69.0\n",
      "18          CONDPSLP  0.00000      68.0\n",
      "17           ISTRSLP  0.00000      67.0\n",
      "48               uri  0.00000      66.0\n",
      "46              resp  0.00000      58.0\n",
      "52              alim  0.00000      54.0\n",
      "37             ictus  0.00000      47.0\n",
      "16          STCIVSLP  0.00000      42.0\n",
      "7           ese_redd  0.00000      32.0\n",
      "53             cuore  0.00000      30.0\n",
      "56          ormonali  0.00000      29.0\n",
      "55             genit  0.00000      28.0\n",
      "24              diab  0.00000      28.0\n",
      "15            TITGOD  0.00002      19.0\n",
      "42             infec  0.00001      19.0\n",
      "50         endocrine  0.00002      18.0\n",
      "47              musc  0.00003      17.0\n",
      "38          insufren  0.00004      17.0\n",
      "29              iper  0.00013      15.0\n",
      "1    cittad_psa_pfpm  0.00058      12.0\n",
      "30              glau  0.00537       8.0\n",
      "14             cod_4  0.00387       8.0\n",
      "39           ipercol  0.00675       7.0\n",
      "57             sensi  0.01251       6.0\n",
      "43             neopl  0.02118       5.0\n",
      "33           tiroide  0.02520       5.0\n",
      "6                adi  0.03225       5.0\n",
      "11             cod_1  0.05676       4.0\n",
      "32            cancro  0.07306       3.0\n",
      "54              derm  0.07902       3.0\n",
      "35               cad  0.17682       2.0\n",
      "25              artr  0.43480       1.0\n",
      "20      tipologianew  0.92431       0.0\n",
      "19         AFF_11BII  0.69583       0.0\n"
     ]
    }
   ],
   "source": [
    "rownames = ['cleta','cittad_psa_pfpm','n_urg','n_notrauma','n_ricoveri','maxchar','adi','ese_redd','invalido','polpre2_farm',\n",
    "        'n_farmaci_gruppo','cod_1','cod_2','cod_3','cod_4','TITGOD','STCIVSLP','ISTRSLP','CONDPSLP','AFF_11BII','tipologianew',\n",
    "         'disabile','fratture','depre','diab','artr','park','epil','ane','iper','glau','mental','cancro','tiroide','demenza',\n",
    "         'cad','chf','ictus','insufren','ipercol','fibratr','femore_prec','infec','neopl','blood','nerv','resp','musc','uri',\n",
    "         'diges','endocrine','circ','alim','cuore','derm','genit','ormonali','sensi']\n",
    "features=pd.DataFrame(rownames) \n",
    "#print('Pvalues')\n",
    "pvalues=pd.DataFrame(fit.pvalues_).round(5) \n",
    "X2_score=pd.DataFrame(feature_score) \n",
    "feature_pvalue=pd.concat([features,pvalues,X2_score],axis=1,ignore_index=True)\n",
    "feature_pvalue.columns=['features','pvalues','X2_score']\n",
    "feature_pvalue=feature_pvalue.sort_values(by=['X2_score'],ascending=False)\n",
    "print(feature_pvalue)"
   ]
  },
  {
   "cell_type": "code",
   "execution_count": 1,
   "metadata": {},
   "outputs": [],
   "source": [
    "df_51=df[['cleta','cittad_psa_pfpm','n_urg','n_notrauma','n_ricoveri','maxchar','adi','ese_redd','invalido','polpre2_farm',\n",
    "       'n_farmaci_gruppo','cod_2','cod_3','cod_4','TITGOD','STCIVSLP','ISTRSLP','CONDPSLP',\n",
    "         'disabile','fratture','depre','diab','park','epil','ane','iper','glau','mental','tiroide','demenza',\n",
    "         'chf','ictus','insufren','ipercol','fibratr','femore_prec','infec','neopl','blood','nerv','resp','musc','uri',\n",
    "         'diges','endocrine','circ','alim','cuore','genit','ormonali','sensi','femore']]\n",
    "\n",
    "print(df_51.shape)\n",
    "df_51.head(1)"
   ]
  },
  {
   "cell_type": "markdown",
   "metadata": {},
   "source": [
    "# Load libraries"
   ]
  },
  {
   "cell_type": "code",
   "execution_count": 7,
   "metadata": {},
   "outputs": [],
   "source": [
    "from pandas.plotting import scatter_matrix\n",
    "from sklearn.model_selection import train_test_split\n",
    "from sklearn.model_selection import KFold\n",
    "from sklearn.model_selection import cross_val_score\n",
    "from sklearn.metrics import classification_report\n",
    "from sklearn.metrics import confusion_matrix\n",
    "from sklearn.metrics import accuracy_score\n",
    "\n",
    "from sklearn.svm import SVC\n",
    "from sklearn.linear_model import LogisticRegression\n",
    "from sklearn.ensemble import RandomForestClassifier\n",
    "from sklearn.neural_network import MLPClassifier\n",
    "from sklearn.tree import DecisionTreeClassifier\n",
    "#from sklearn.neighbors import KNeighborsClassifier\n"
   ]
  },
  {
   "cell_type": "markdown",
   "metadata": {},
   "source": [
    "# Grid Search with cross validation "
   ]
  },
  {
   "cell_type": "code",
   "execution_count": 8,
   "metadata": {},
   "outputs": [],
   "source": [
    "from sklearn.model_selection import GridSearchCV "
   ]
  },
  {
   "cell_type": "code",
   "execution_count": 9,
   "metadata": {},
   "outputs": [],
   "source": [
    "array = df_51.values\n",
    "X = array[:,0:51]\n",
    "Y = array[:,51]"
   ]
  },
  {
   "cell_type": "code",
   "execution_count": 10,
   "metadata": {},
   "outputs": [],
   "source": [
    "# split data into train+validation set and test set\n",
    "X_trainval, X_test, y_trainval, Y_test = train_test_split(X, Y,test_size=0.20, random_state=7)\n",
    "\n",
    "# split train+validation set into training and validation \n",
    "X_train, X_valid, Y_train, Y_valid = train_test_split(X_trainval,y_trainval,test_size=0.20,random_state=7)"
   ]
  },
  {
   "cell_type": "code",
   "execution_count": 11,
   "metadata": {},
   "outputs": [],
   "source": [
    "# defining parameter range \n",
    "param_grid = {'C': [0.01, 0.1,1, 10, 100],  \n",
    "              'gamma': [1, 0.1, 0.01, 0.001, 0.0001], \n",
    "              'kernel': ['rbf']}  "
   ]
  },
  {
   "cell_type": "markdown",
   "metadata": {},
   "source": [
    "# Build Model: Training set"
   ]
  },
  {
   "cell_type": "code",
   "execution_count": 12,
   "metadata": {},
   "outputs": [],
   "source": [
    "svm=SVC()"
   ]
  },
  {
   "cell_type": "code",
   "execution_count": 13,
   "metadata": {},
   "outputs": [],
   "source": [
    "# grid searc with cross-validation \n",
    "grid = GridSearchCV(svm, param_grid, refit = True, cv=10) "
   ]
  },
  {
   "cell_type": "code",
   "execution_count": 2,
   "metadata": {},
   "outputs": [],
   "source": [
    "#  fit  Model  on the  training  set \n",
    "grid.fit(X_train, Y_train)"
   ]
  },
  {
   "cell_type": "markdown",
   "metadata": {},
   "source": [
    "# Best  parameters "
   ]
  },
  {
   "cell_type": "code",
   "execution_count": 15,
   "metadata": {},
   "outputs": [
    {
     "name": "stdout",
     "output_type": "stream",
     "text": [
      "best parameters after tuning: {'C': 1, 'gamma': 0.01, 'kernel': 'rbf'}\n",
      "                            \n",
      "The model after hyper-parameter tuning: \n",
      "SVC(C=1, break_ties=False, cache_size=200, class_weight=None, coef0=0.0,\n",
      "    decision_function_shape='ovr', degree=3, gamma=0.01, kernel='rbf',\n",
      "    max_iter=-1, probability=False, random_state=None, shrinking=True,\n",
      "    tol=0.001, verbose=False)\n"
     ]
    }
   ],
   "source": [
    "best_params=grid.best_params_\n",
    "print('best parameters after tuning:',best_params)\n",
    "#print(grid.best_params_) \n",
    "# print how our model looks after hyper-parameter tuning\n",
    "print('                            ')\n",
    "print('The model after hyper-parameter tuning: ')\n",
    "print(grid.best_estimator_) "
   ]
  },
  {
   "cell_type": "markdown",
   "metadata": {},
   "source": [
    "# Evaluate Model:Validation set"
   ]
  },
  {
   "cell_type": "code",
   "execution_count": 16,
   "metadata": {},
   "outputs": [
    {
     "name": "stdout",
     "output_type": "stream",
     "text": [
      "score on Validation set: 0.7587119541243935\n"
     ]
    }
   ],
   "source": [
    "# evaluate the Model  on the validation set\n",
    "best_model=grid.best_estimator_\n",
    "score = best_model.score(X_valid, Y_valid)\n",
    "print('score on Validation set:',score)"
   ]
  },
  {
   "cell_type": "markdown",
   "metadata": {},
   "source": [
    "# Rebuild model on the combined training and validation set\n",
    "\n",
    "Training + Validation  +   best parameters"
   ]
  },
  {
   "cell_type": "code",
   "execution_count": 17,
   "metadata": {},
   "outputs": [],
   "source": [
    "svm=SVC(**best_params)"
   ]
  },
  {
   "cell_type": "code",
   "execution_count": 18,
   "metadata": {},
   "outputs": [
    {
     "name": "stdout",
     "output_type": "stream",
     "text": [
      "0    0.75\n",
      "1    0.75\n",
      "2    0.73\n",
      "3    0.74\n",
      "4    0.76\n",
      "5    0.76\n",
      "6    0.74\n",
      "7    0.75\n",
      "8    0.74\n",
      "9    0.75\n",
      "dtype: float64\n",
      "0.75\n"
     ]
    }
   ],
   "source": [
    "from sklearn.model_selection import StratifiedKFold\n",
    "kfold = StratifiedKFold(n_splits=10, random_state=1)\n",
    "cv_results = cross_val_score(svm, X_trainval, y_trainval, cv=kfold, scoring='accuracy') \n",
    "cv_results=pd.DataFrame([cv_results])\n",
    "cv=cv_results.mean().round(2)\n",
    "print(cv)\n",
    "print(np.round(cv.mean(),2))"
   ]
  },
  {
   "cell_type": "code",
   "execution_count": 19,
   "metadata": {},
   "outputs": [
    {
     "data": {
      "text/plain": [
       "SVC(C=1, break_ties=False, cache_size=200, class_weight=None, coef0=0.0,\n",
       "    decision_function_shape='ovr', degree=3, gamma=0.01, kernel='rbf',\n",
       "    max_iter=-1, probability=False, random_state=None, shrinking=True,\n",
       "    tol=0.001, verbose=False)"
      ]
     },
     "execution_count": 19,
     "metadata": {},
     "output_type": "execute_result"
    }
   ],
   "source": [
    "svm.fit(X_trainval, y_trainval)"
   ]
  },
  {
   "cell_type": "markdown",
   "metadata": {},
   "source": [
    "# Evaluate Model:Test set"
   ]
  },
  {
   "cell_type": "code",
   "execution_count": 20,
   "metadata": {},
   "outputs": [],
   "source": [
    "# Evalute  model on the test set (prediction on test set)\n",
    "predictions = svm.predict(X_test) "
   ]
  },
  {
   "cell_type": "code",
   "execution_count": 21,
   "metadata": {
    "scrolled": true
   },
   "outputs": [
    {
     "name": "stdout",
     "output_type": "stream",
     "text": [
      "              precision    recall  f1-score   support\n",
      "\n",
      "           0       0.75      0.74      0.75      1401\n",
      "           1       0.75      0.76      0.75      1433\n",
      "\n",
      "    accuracy                           0.75      2834\n",
      "   macro avg       0.75      0.75      0.75      2834\n",
      "weighted avg       0.75      0.75      0.75      2834\n",
      "\n"
     ]
    }
   ],
   "source": [
    "print(classification_report(Y_test, predictions)) "
   ]
  },
  {
   "cell_type": "code",
   "execution_count": 22,
   "metadata": {},
   "outputs": [
    {
     "name": "stdout",
     "output_type": "stream",
     "text": [
      "confusion Matrix:\n",
      "[[1040  361]\n",
      " [ 350 1083]]\n",
      "Performanace results\n",
      "TPR: 0.76\n",
      "TNR: 0.74\n",
      "ACC: 0.75\n",
      "Precision: 0.75\n",
      "Recall: 0.76\n",
      "F1-Score: 0.75\n"
     ]
    }
   ],
   "source": [
    "predictions = svm.predict(X_test) \n",
    "confusion=confusion_matrix(Y_test, predictions)\n",
    "TP = confusion[1, 1]\n",
    "TN = confusion[0, 0]\n",
    "FP = confusion[0, 1]\n",
    "FN = confusion[1, 0]\n",
    "    \n",
    "TPR = TP/(TP+FN)\n",
    "TNR = TN/(TN+FP)  \n",
    "ACC = (TP+TN)/(TP+FP+FN+TN)\n",
    "Precision = TP/(TP+FP)\n",
    "Recall = TP/(TP+FN)\n",
    "F1_Score = 2*(Recall * Precision) / (Recall + Precision)\n",
    "print('confusion Matrix:')\n",
    "print(confusion)\n",
    "print('Performanace results')  \n",
    "print('TPR:',TPR.round(2))\n",
    "print('TNR:',TNR.round(2))\n",
    "print('ACC:',ACC.round(2))\n",
    "print('Precision:',Precision.round(2))\n",
    "print('Recall:',Recall.round(2))\n",
    "print('F1-Score:',F1_Score.round(2))"
   ]
  },
  {
   "cell_type": "code",
   "execution_count": null,
   "metadata": {},
   "outputs": [],
   "source": []
  }
 ],
 "metadata": {
  "kernelspec": {
   "display_name": "Python 3",
   "language": "python",
   "name": "python3"
  },
  "language_info": {
   "codemirror_mode": {
    "name": "ipython",
    "version": 3
   },
   "file_extension": ".py",
   "mimetype": "text/x-python",
   "name": "python",
   "nbconvert_exporter": "python",
   "pygments_lexer": "ipython3",
   "version": "3.7.5"
  }
 },
 "nbformat": 4,
 "nbformat_minor": 2
}
